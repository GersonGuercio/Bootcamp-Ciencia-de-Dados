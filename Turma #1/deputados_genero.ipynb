{
 "cells": [
  {
   "cell_type": "markdown",
   "metadata": {},
   "source": [
    "# Bootcamp DataScience iHub"
   ]
  },
  {
   "cell_type": "markdown",
   "metadata": {},
   "source": [
    "## Gasto de deputados por gênero"
   ]
  },
  {
   "cell_type": "markdown",
   "metadata": {},
   "source": [
    "### Etapas: \n",
    "    1. Abrir os datasets do [link]: http://dontpad.com/thaisviana/datascience\n",
    "    2. Calcular o gasto por cada deputado em 2018\n",
    "    3. Descobrir quem são os deputados em 2018 no nosso dataset\n",
    "    4. Filtrar o dataset de informações de deputados pelos deputados na lista do item 3\n",
    "    5. Criar um dataset novo com as colunas NOME, GENERO, GASTO\n",
    "    6. Calcular qual genero gasta mais em média por número de agentes públicos"
   ]
  },
  {
   "cell_type": "code",
   "execution_count": 2,
   "metadata": {},
   "outputs": [],
   "source": [
    "import pandas as pd\n",
    "import numpy as np"
   ]
  },
  {
   "cell_type": "code",
   "execution_count": 5,
   "metadata": {},
   "outputs": [],
   "source": [
    "df_2018 = pd.read_csv('data/Ano-2018.csv', sep=';', parse_dates=['datEmissao'])"
   ]
  },
  {
   "cell_type": "code",
   "execution_count": 12,
   "metadata": {},
   "outputs": [],
   "source": [
    "df_infos = pd.read_csv('data/deputados.csv', sep=';')"
   ]
  },
  {
   "cell_type": "markdown",
   "metadata": {},
   "source": [
    "## Gasto por cada deputado em 2018"
   ]
  },
  {
   "cell_type": "code",
   "execution_count": 45,
   "metadata": {},
   "outputs": [
    {
     "data": {
      "text/plain": [
       "txNomeParlamentar\n",
       "ABEL MESQUITA JR.       531047.71\n",
       "ADAIL CARNEIRO          546244.27\n",
       "ADALBERTO CAVALCANTI    497902.97\n",
       "ADELMO CARNEIRO LEÃO    378203.93\n",
       "ADELSON BARRETO         333038.13\n",
       "                          ...    \n",
       "ZÉ CARLOS               484381.83\n",
       "ZÉ GERALDO              505529.11\n",
       "ZÉ SILVA                384928.09\n",
       "ÁTILA LINS              437089.95\n",
       "ÁTILA LIRA              452594.23\n",
       "Name: vlrDocumento, Length: 555, dtype: float64"
      ]
     },
     "execution_count": 45,
     "metadata": {},
     "output_type": "execute_result"
    }
   ],
   "source": [
    "df_2018 = df_2018[pd.isna(df_2018['sgPartido']) == False]\n",
    "gasto = df_2018.groupby(['txNomeParlamentar'])['vlrDocumento'].sum()\n",
    "gasto"
   ]
  },
  {
   "cell_type": "markdown",
   "metadata": {},
   "source": [
    "##  Deputados em 2018 no nosso dataset"
   ]
  },
  {
   "cell_type": "code",
   "execution_count": 20,
   "metadata": {},
   "outputs": [],
   "source": [
    "lista_de_nomes = df_2018.txNomeParlamentar.unique()"
   ]
  },
  {
   "cell_type": "code",
   "execution_count": 23,
   "metadata": {},
   "outputs": [],
   "source": [
    "#gasto.index"
   ]
  },
  {
   "cell_type": "markdown",
   "metadata": {},
   "source": [
    "## Filtrar o dataset de info de deputados pelos deputados na lista"
   ]
  },
  {
   "cell_type": "code",
   "execution_count": 73,
   "metadata": {},
   "outputs": [],
   "source": [
    "df_nome_genero = df_infos[df_infos['nome'].isin(lista_de_nomes) == True]"
   ]
  },
  {
   "cell_type": "code",
   "execution_count": 77,
   "metadata": {},
   "outputs": [],
   "source": [
    "df_nome_genero = df_nome_genero[['nome', 'siglaSexo']]\n",
    "df_nome_genero.drop_duplicates(subset='nome', keep='first', inplace=True)\n",
    "df_genero = df_nome_genero"
   ]
  },
  {
   "cell_type": "code",
   "execution_count": 63,
   "metadata": {},
   "outputs": [
    {
     "data": {
      "text/html": [
       "<div>\n",
       "<style scoped>\n",
       "    .dataframe tbody tr th:only-of-type {\n",
       "        vertical-align: middle;\n",
       "    }\n",
       "\n",
       "    .dataframe tbody tr th {\n",
       "        vertical-align: top;\n",
       "    }\n",
       "\n",
       "    .dataframe thead th {\n",
       "        text-align: right;\n",
       "    }\n",
       "</style>\n",
       "<table border=\"1\" class=\"dataframe\">\n",
       "  <thead>\n",
       "    <tr style=\"text-align: right;\">\n",
       "      <th></th>\n",
       "      <th>siglaSexo</th>\n",
       "    </tr>\n",
       "    <tr>\n",
       "      <th>nome</th>\n",
       "      <th></th>\n",
       "    </tr>\n",
       "  </thead>\n",
       "  <tbody>\n",
       "    <tr>\n",
       "      <td>ABEL MESQUITA JR.</td>\n",
       "      <td>M</td>\n",
       "    </tr>\n",
       "    <tr>\n",
       "      <td>ADAIL CARNEIRO</td>\n",
       "      <td>M</td>\n",
       "    </tr>\n",
       "    <tr>\n",
       "      <td>ADALBERTO CAVALCANTI</td>\n",
       "      <td>M</td>\n",
       "    </tr>\n",
       "    <tr>\n",
       "      <td>ADELMO CARNEIRO LEÃO</td>\n",
       "      <td>M</td>\n",
       "    </tr>\n",
       "    <tr>\n",
       "      <td>ADELSON BARRETO</td>\n",
       "      <td>M</td>\n",
       "    </tr>\n",
       "    <tr>\n",
       "      <td>...</td>\n",
       "      <td>...</td>\n",
       "    </tr>\n",
       "    <tr>\n",
       "      <td>ZÉ CARLOS</td>\n",
       "      <td>M</td>\n",
       "    </tr>\n",
       "    <tr>\n",
       "      <td>ZÉ GERALDO</td>\n",
       "      <td>M</td>\n",
       "    </tr>\n",
       "    <tr>\n",
       "      <td>ZÉ SILVA</td>\n",
       "      <td>M</td>\n",
       "    </tr>\n",
       "    <tr>\n",
       "      <td>ÁTILA LINS</td>\n",
       "      <td>M</td>\n",
       "    </tr>\n",
       "    <tr>\n",
       "      <td>ÁTILA LIRA</td>\n",
       "      <td>M</td>\n",
       "    </tr>\n",
       "  </tbody>\n",
       "</table>\n",
       "<p>554 rows × 1 columns</p>\n",
       "</div>"
      ],
      "text/plain": [
       "                     siglaSexo\n",
       "nome                          \n",
       "ABEL MESQUITA JR.            M\n",
       "ADAIL CARNEIRO               M\n",
       "ADALBERTO CAVALCANTI         M\n",
       "ADELMO CARNEIRO LEÃO         M\n",
       "ADELSON BARRETO              M\n",
       "...                        ...\n",
       "ZÉ CARLOS                    M\n",
       "ZÉ GERALDO                   M\n",
       "ZÉ SILVA                     M\n",
       "ÁTILA LINS                   M\n",
       "ÁTILA LIRA                   M\n",
       "\n",
       "[554 rows x 1 columns]"
      ]
     },
     "execution_count": 63,
     "metadata": {},
     "output_type": "execute_result"
    }
   ],
   "source": [
    "df_nome_genero = df_nome_genero.sort_values(by='nome', ascending=True)\n",
    "df_nome_genero = df_nome_genero.set_index('nome')\n",
    "df_nome_genero"
   ]
  },
  {
   "cell_type": "code",
   "execution_count": null,
   "metadata": {},
   "outputs": [],
   "source": []
  },
  {
   "cell_type": "code",
   "execution_count": 57,
   "metadata": {},
   "outputs": [
    {
     "name": "stderr",
     "output_type": "stream",
     "text": [
      "/opt/anaconda3/lib/python3.7/site-packages/ipykernel_launcher.py:1: FutureWarning: Sorting because non-concatenation axis is not aligned. A future version\n",
      "of pandas will change to not sort by default.\n",
      "\n",
      "To accept the future behavior, pass 'sort=False'.\n",
      "\n",
      "To retain the current behavior and silence the warning, pass 'sort=True'.\n",
      "\n",
      "  \"\"\"Entry point for launching an IPython kernel.\n"
     ]
    },
    {
     "data": {
      "text/html": [
       "<div>\n",
       "<style scoped>\n",
       "    .dataframe tbody tr th:only-of-type {\n",
       "        vertical-align: middle;\n",
       "    }\n",
       "\n",
       "    .dataframe tbody tr th {\n",
       "        vertical-align: top;\n",
       "    }\n",
       "\n",
       "    .dataframe thead th {\n",
       "        text-align: right;\n",
       "    }\n",
       "</style>\n",
       "<table border=\"1\" class=\"dataframe\">\n",
       "  <thead>\n",
       "    <tr style=\"text-align: right;\">\n",
       "      <th></th>\n",
       "      <th>vlrDocumento</th>\n",
       "      <th>siglaSexo</th>\n",
       "    </tr>\n",
       "  </thead>\n",
       "  <tbody>\n",
       "    <tr>\n",
       "      <td>ABEL MESQUITA JR.</td>\n",
       "      <td>531047.71</td>\n",
       "      <td>M</td>\n",
       "    </tr>\n",
       "    <tr>\n",
       "      <td>ADAIL CARNEIRO</td>\n",
       "      <td>546244.27</td>\n",
       "      <td>M</td>\n",
       "    </tr>\n",
       "    <tr>\n",
       "      <td>ADALBERTO CAVALCANTI</td>\n",
       "      <td>497902.97</td>\n",
       "      <td>M</td>\n",
       "    </tr>\n",
       "    <tr>\n",
       "      <td>ADELMO CARNEIRO LEÃO</td>\n",
       "      <td>378203.93</td>\n",
       "      <td>M</td>\n",
       "    </tr>\n",
       "    <tr>\n",
       "      <td>ADELSON BARRETO</td>\n",
       "      <td>333038.13</td>\n",
       "      <td>M</td>\n",
       "    </tr>\n",
       "    <tr>\n",
       "      <td>...</td>\n",
       "      <td>...</td>\n",
       "      <td>...</td>\n",
       "    </tr>\n",
       "    <tr>\n",
       "      <td>ZÉ CARLOS</td>\n",
       "      <td>484381.83</td>\n",
       "      <td>M</td>\n",
       "    </tr>\n",
       "    <tr>\n",
       "      <td>ZÉ GERALDO</td>\n",
       "      <td>505529.11</td>\n",
       "      <td>M</td>\n",
       "    </tr>\n",
       "    <tr>\n",
       "      <td>ZÉ SILVA</td>\n",
       "      <td>384928.09</td>\n",
       "      <td>M</td>\n",
       "    </tr>\n",
       "    <tr>\n",
       "      <td>ÁTILA LINS</td>\n",
       "      <td>437089.95</td>\n",
       "      <td>M</td>\n",
       "    </tr>\n",
       "    <tr>\n",
       "      <td>ÁTILA LIRA</td>\n",
       "      <td>452594.23</td>\n",
       "      <td>M</td>\n",
       "    </tr>\n",
       "  </tbody>\n",
       "</table>\n",
       "<p>555 rows × 2 columns</p>\n",
       "</div>"
      ],
      "text/plain": [
       "                      vlrDocumento siglaSexo\n",
       "ABEL MESQUITA JR.        531047.71         M\n",
       "ADAIL CARNEIRO           546244.27         M\n",
       "ADALBERTO CAVALCANTI     497902.97         M\n",
       "ADELMO CARNEIRO LEÃO     378203.93         M\n",
       "ADELSON BARRETO          333038.13         M\n",
       "...                            ...       ...\n",
       "ZÉ CARLOS                484381.83         M\n",
       "ZÉ GERALDO               505529.11         M\n",
       "ZÉ SILVA                 384928.09         M\n",
       "ÁTILA LINS               437089.95         M\n",
       "ÁTILA LIRA               452594.23         M\n",
       "\n",
       "[555 rows x 2 columns]"
      ]
     },
     "execution_count": 57,
     "metadata": {},
     "output_type": "execute_result"
    }
   ],
   "source": [
    "pd.concat([gasto, df_nome_genero], axis=1)"
   ]
  },
  {
   "cell_type": "markdown",
   "metadata": {},
   "source": [
    "## AGORA COM MERGE"
   ]
  },
  {
   "cell_type": "code",
   "execution_count": 64,
   "metadata": {},
   "outputs": [],
   "source": [
    "gasto_merge = gasto"
   ]
  },
  {
   "cell_type": "code",
   "execution_count": 69,
   "metadata": {},
   "outputs": [],
   "source": [
    "gasto_merge = gasto_merge.reset_index()\n",
    "gasto_merge = gasto_merge.merge(df_genero, left_on='txNomeParlamentar', right_on='nome')"
   ]
  },
  {
   "cell_type": "code",
   "execution_count": null,
   "metadata": {},
   "outputs": [],
   "source": []
  },
  {
   "cell_type": "code",
   "execution_count": null,
   "metadata": {},
   "outputs": [],
   "source": []
  },
  {
   "cell_type": "code",
   "execution_count": null,
   "metadata": {},
   "outputs": [],
   "source": []
  }
 ],
 "metadata": {
  "kernelspec": {
   "display_name": "Python 3",
   "language": "python",
   "name": "python3"
  },
  "language_info": {
   "codemirror_mode": {
    "name": "ipython",
    "version": 3
   },
   "file_extension": ".py",
   "mimetype": "text/x-python",
   "name": "python",
   "nbconvert_exporter": "python",
   "pygments_lexer": "ipython3",
   "version": "3.7.4"
  }
 },
 "nbformat": 4,
 "nbformat_minor": 2
}
